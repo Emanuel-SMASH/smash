{
 "cells": [
  {
   "cell_type": "markdown",
   "metadata": {
    "collapsed": true
   },
   "source": [
    "<h1>Matplotlib Bar Chart Guide</h1>\n",
    "<p><b>For SMASH CS Fundamentals II: Data Analysis</b>\n",
    "<br>This guide teaches you how you create basic bar charts with <b>matplotlib</b>.</p>\n",
    "<p>matplotlib.pyplot API:\n",
    "<br>https://matplotlib.org/api/pyplot_api.html</p>"
   ]
  },
  {
   "cell_type": "markdown",
   "metadata": {},
   "source": [
    "<h2>Import matplotlib.pyplot as plt</h2>\n",
    "<p>As always, we will be using pyplot for all of our visualization needs.\n",
    "<br>Be sure to import it at the top of your file. Otherwise you won't be able to do anything.\n",
    "<br>The <i>\"as plt\"</i> part is just so we don't need to say <i>matplotlib.pyplot</i> each time we want to use it.</p>"
   ]
  },
  {
   "cell_type": "code",
   "execution_count": 1,
   "metadata": {
    "collapsed": true
   },
   "outputs": [],
   "source": [
    "import matplotlib.pyplot as plt"
   ]
  },
  {
   "cell_type": "markdown",
   "metadata": {},
   "source": [
    "<h2>Create your data</h2>\n",
    "<p>Later in the course we'll be using very large amounts of data from a database.\n",
    "<br>But for now let's just use some small data.\n",
    "<br>Here's some: http://www.usclimatedata.com\n",
    "<br>Take a look at the monthly temperatures in Washington, DC from 1961-1990.\n",
    "<br>Let's use <b>tuples</b> to store this data."
   ]
  },
  {
   "cell_type": "code",
   "execution_count": 2,
   "metadata": {
    "collapsed": true
   },
   "outputs": [],
   "source": [
    "# the data, taken from http://www.usclimatedata.com\n",
    "low_avg_temps = (27, 28, 35, 44, 54, 63, 68, 66, 59, 48, 38, 29)\n",
    "high_avg_temps = (42, 44, 53, 64, 75, 83, 87, 84, 78, 67, 55, 45)\n",
    "month_labels = (\"Jan\", \"Feb\", \"Mar\", \"Apr\", \"May\", \"Jun\", \"Jul\", \"Aug\", \"Sep\", \"Oct\", \"Nov\", \"Dec\")"
   ]
  },
  {
   "cell_type": "markdown",
   "metadata": {},
   "source": [
    "<p>The <i>month_labels</i> tuple is there for later.\n",
    "<br>By the way, why did I decide to use tuples and not lists to store this data? Think about it:\n",
    "<ul>\n",
    "    <li>There are exactly 12 months.</li>\n",
    "    <li>The order in which the numbers are arranged has meaning (i.e., the order of the months).</li>\n",
    "    <li>Since these months already happened, so I the values won't change.</li>\n",
    "</ul>\n",
    "<p>First, let's just make a bar chart of the <b>low average temperatures</b>.</p>"
   ]
  },
  {
   "cell_type": "markdown",
   "metadata": {},
   "source": [
    "<h2>Setup your graphic</h2>\n",
    "<p>I'll use comments to annotate each part of this bit.</p>"
   ]
  },
  {
   "cell_type": "code",
   "execution_count": 3,
   "metadata": {
    "collapsed": false
   },
   "outputs": [
    {
     "data": {
      "text/plain": [
       "<matplotlib.text.Text at 0x2044d8bba58>"
      ]
     },
     "execution_count": 3,
     "metadata": {},
     "output_type": "execute_result"
    }
   ],
   "source": [
    "# Width of bars in pixels. I'll use this in a bit. \n",
    "bar_width = 0.35\n",
    "\n",
    "# This list corresponds with the number of months, which will be my x-axis.\n",
    "x_range = [0, 1, 2, 3, 4, 5, 6, 7, 8, 9, 10, 11]\n",
    "'''\n",
    "Create y_range by specifiying values from 0 to a max value that makes sense.\n",
    "For degrees farenheit, a good max value might be 95.\n",
    "matplotlib will not actually draw a tick for 95 unless a temp gets that high, but I'm \n",
    "still making sure I'm giving it a realistic maximum. \n",
    "\n",
    "We'll start at 0 and increment 5 each tick until we hit 95. \n",
    "Just like you would with a for-loop.\n",
    "\n",
    "y_range = range(0, 95, 5)\n",
    "\n",
    "You should transform that range into list by wrapping list() around it:\n",
    "\n",
    "y_range = list(range(0, 95, 5))\n",
    "\n",
    "As a general rule, the baseline for a bar chart should be 0.\n",
    "Otherwise you risk mischaracterizing your data.\n",
    "Starting at 0 ensures that the length of each bar represents the temperature.\n",
    "See here for more: https://flowingdata.com/2015/08/31/bar-chart-baselines-start-at-zero/\n",
    "'''\n",
    "y_range = list(range(0, 95, 5))\n",
    "\n",
    "#Place this above all of your figures. \n",
    "#It just ensures gridlines appear behind everything else.\n",
    "plt.rc(\"axes\", axisbelow=True)\n",
    "\n",
    "# Give this figure a unique number.\n",
    "plt.figure(1)\n",
    "\n",
    "# Create x-axis tickmarks according to the x_range. \n",
    "# The \"month_labels\" here just apply the labels to those tickmarks.\n",
    "plt.xticks(x_range,  month_labels)\n",
    "\n",
    "# Create the y-axis tickmarks according to the y_range.\n",
    "plt.yticks(y_range)\n",
    "\n",
    "# Create horizontal gridlines so it's easier to measure the bars.\n",
    "plt.grid(axis=\"y\")\n",
    "\n",
    "# What's the name of your graphic?\n",
    "# I'm using \\N{DEGREE SIGN} ensure the degree sign goes before F. \n",
    "# And of course, \\n just puts everything after it on the next line. \n",
    "plt.title('Washington, DC (1961-1990)\\nAverage Monthly Temperatures (\\N{DEGREE SIGN}F)')\n",
    "\n",
    "# Don't need to label the x-axis since the months are already labeled.\n",
    "# So let's label the y-axis.\n",
    "plt.ylabel('Avg Temp (\\N{DEGREE SIGN}F)')"
   ]
  },
  {
   "cell_type": "markdown",
   "metadata": {},
   "source": [
    "<h2>Draw the bars</h2>\n",
    "<p>This is the easy part. It's just a few lines.</p>"
   ]
  },
  {
   "cell_type": "code",
   "execution_count": 4,
   "metadata": {
    "collapsed": false
   },
   "outputs": [
    {
     "data": {
      "image/png": "[encoded data removed]",
      "text/plain": [
       "<matplotlib.figure.Figure at 0x2044d81dc50>"
      ]
     },
     "metadata": {},
     "output_type": "display_data"
    }
   ],
   "source": [
    "# Draw the bar chart.\n",
    "plt.bar(x_range, low_avg_temps, width=bar_width, color=\"blue\")\n",
    "\n",
    "# Show the figure.\n",
    "plt.show()"
   ]
  },
  {
   "cell_type": "markdown",
   "metadata": {},
   "source": [
    "<p>that looks cool. In PyCharm we can edit it to make it prettier from here.\n",
    "<br>But for now this'll do. \n",
    "<br>Why not make a <b>horizontal</b> bar chart?\n",
    "<br>It might provide a more intuitive way to view this data.</p>"
   ]
  },
  {
   "cell_type": "code",
   "execution_count": 5,
   "metadata": {
    "collapsed": false
   },
   "outputs": [
    {
     "data": {
      "image/png": "[encoded data removed]",
      "text/plain": [
       "<matplotlib.figure.Figure at 0x2044dca9b00>"
      ]
     },
     "metadata": {},
     "output_type": "display_data"
    }
   ],
   "source": [
    "# Give the figure a unique number.\n",
    "plt.figure(2)\n",
    "\n",
    "# Setup your x and y tickmarks just like last time, but in reverse.\n",
    "plt.xticks(y_range)\n",
    "plt.yticks(x_range,  month_labels)\n",
    "\n",
    "# This nifty little function here just reverses the y-axis, so January appears at the top.\n",
    "plt.gca().invert_yaxis()\n",
    "\n",
    "# This time we'll need vertical gridlines.\n",
    "plt.grid(axis=\"x\")\n",
    "\n",
    "# This part doesn't change.\n",
    "plt.title('Washington, DC (1961-1990)\\nAverage Monthly Temperatures (\\N{DEGREE SIGN}F)')\n",
    "\n",
    "# Now we need to label our x-axis.\n",
    "plt.xlabel('Avg Temp (\\N{DEGREE SIGN}F)')\n",
    "\n",
    "# To draw the bars, we use barh and specify height, not width.\n",
    "plt.barh(x_range, low_avg_temps, height=bar_width, color=\"blue\")\n",
    "\n",
    "# Show the figure.\n",
    "plt.show()"
   ]
  },
  {
   "cell_type": "markdown",
   "metadata": {},
   "source": [
    "<h2>Draw two datasets side-by-side for comparison</h2>\n",
    "<p>This is both easier and harder than it sounds.\n",
    "<br>The easy part is drawing both datasets on the same chart.\n",
    "<br>The hard part is drawing them <i>neatly</i>.\n",
    "<br>You'll need some aesthetic sense and a bit of math for this.</p>"
   ]
  },
  {
   "cell_type": "code",
   "execution_count": 6,
   "metadata": {
    "collapsed": false
   },
   "outputs": [
    {
     "data": {
      "image/png": "[encoded data removed]",
      "text/plain": [
       "<matplotlib.figure.Figure at 0x2044dd93320>"
      ]
     },
     "metadata": {},
     "output_type": "display_data"
    }
   ],
   "source": [
    "# Give the figure a unique number.\n",
    "plt.figure(3)\n",
    "\n",
    "# This stuff doesn't change\n",
    "plt.xticks(x_range,  month_labels)\n",
    "plt.yticks(y_range)\n",
    "\n",
    "# Horizontal gridlines again.\n",
    "plt.grid(axis=\"y\")\n",
    "\n",
    "# This part doesn't change.\n",
    "plt.title('Washington, DC (1961-1990)\\nAverage Monthly Temperatures (\\N{DEGREE SIGN}F)')\n",
    "\n",
    "# Label the y-axis\n",
    "plt.ylabel('Avg Temp (\\N{DEGREE SIGN}F)')\n",
    "\n",
    "'''\n",
    "Draw the the two sets of bars. \n",
    "\n",
    "Our bars now need to be setup so that they appear side-by-side.\n",
    "\n",
    "For the low_avg_temps bars, we'll use x - (bar_width / 2). This will move those \n",
    "bars to the left of the tickmark by half of the width of the bar itself.\n",
    "\n",
    "Using this same logic, we'll use x + (bar_width / 2) for the high_avg_temps bars.\n",
    "\n",
    "There are two ways to do either. Here's the longer way:\n",
    "\n",
    "low_range = []\n",
    "for x in x_range:\n",
    "    low_range.append(x - bar_width / 2)\n",
    "\n",
    "A slicker, more \"Pythonistic\" way of doing it:\n",
    "\n",
    "low_range = [x - bar_width / 2 for x in x_range]\n",
    "\n",
    "Choose whichever way you like. I'm using the shorter way to save some typing.\n",
    "'''\n",
    "low_range = [x - bar_width / 2 for x in x_range]\n",
    "high_range = [x + bar_width / 2 for x in x_range]\n",
    "plt.bar(low_range, low_avg_temps, bar_width, color='blue', label='low')\n",
    "plt.bar(high_range, high_avg_temps, bar_width, color='red', label='high')\n",
    "\n",
    "# Show the figure.\n",
    "plt.show()"
   ]
  },
  {
   "cell_type": "markdown",
   "metadata": {},
   "source": [
    "<h2>That's all!</h2>\n",
    "<p>There is more to bar charts, but this is all you'll need for this course.\n",
    "<br>I suggest playing around with this more until you feel more comfortable.\n",
    "<br>And you can learn a lot by utilizing the excellent documentation I linked at the top.</p>"
   ]
  }
 ],
 "metadata": {
  "kernelspec": {
   "display_name": "Python 3",
   "language": "python",
   "name": "python3"
  },
  "language_info": {
   "codemirror_mode": {
    "name": "ipython",
    "version": 3
   },
   "file_extension": ".py",
   "mimetype": "text/x-python",
   "name": "python",
   "nbconvert_exporter": "python",
   "pygments_lexer": "ipython3",
   "version": "3.6.0"
  }
 },
 "nbformat": 4,
 "nbformat_minor": 0
}
