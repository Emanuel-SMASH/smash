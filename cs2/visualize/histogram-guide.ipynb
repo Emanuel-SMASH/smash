{
 "cells": [
  {
   "cell_type": "markdown",
   "metadata": {
    "collapsed": true
   },
   "source": [
    "<h1>Histogram Guide</h1>\n",
    "<p><b>For SMASH CS Fundamentals II: Data Analysis</b> \n",
    "<br>This guide teaches you how you create basic histograms with <b>matplotlib</b>.\n",
    "\n",
    "matplotlib.pyplot API: \n",
    "<br><a href=\"https://matplotlib.org/api/pyplot_api.html\">https://matplotlib.org/api/pyplot_api.html</a>"
   ]
  },
  {
   "cell_type": "markdown",
   "metadata": {},
   "source": [
    "<h2>Import matplotlib.pyplot as plt and randint from random</h2>"
   ]
  },
  {
   "cell_type": "code",
   "execution_count": 1,
   "metadata": {
    "collapsed": true
   },
   "outputs": [],
   "source": [
    "import matplotlib.pyplot as plt\n",
    "from random import randint"
   ]
  },
  {
   "cell_type": "markdown",
   "metadata": {},
   "source": [
    "<h2>Create your data</h2>\n",
    "<p>Let's generate a pseudo-random list of exam scores.\n",
    "<br>This isn't realistic at all. Just need some numbers to work with.</p>"
   ]
  },
  {
   "cell_type": "code",
   "execution_count": 2,
   "metadata": {
    "collapsed": true
   },
   "outputs": [],
   "source": [
    "scores = []\n",
    "for i in range(0, 30):\n",
    "    scores.append(randint(50, 100))"
   ]
  },
  {
   "cell_type": "markdown",
   "metadata": {},
   "source": [
    "<h2>Calculate mean and standard deviation</h2>\n",
    "<p>It's always good to include these in our histogram.\n",
    "<br>They can help folks understand what they see.\n",
    "<br>We'll make functions to do math for us.</p>"
   ]
  },
  {
   "cell_type": "code",
   "execution_count": 3,
   "metadata": {
    "collapsed": true
   },
   "outputs": [],
   "source": [
    "# Returns mean, rounded to nearest hundreth decimal place\n",
    "def get_mean(nums):\n",
    "    if(len(nums) == 0):\n",
    "        return 0\n",
    "    else:\n",
    "        total = 0\n",
    "        for num in nums:\n",
    "            total += num\n",
    "        return round(total / len(nums), 2)\n",
    "\n",
    "# Returns standard deviation, rounded to nearest hundred decimal place\n",
    "def get_sd(nums):\n",
    "    mean = get_mean(nums)\n",
    "    total = 0\n",
    "    for num in nums:\n",
    "        total += (num - mean) ** 2\n",
    "    variance = total / (len(nums) - 1)\n",
    "    return round(variance ** 0.5, 2)\n",
    "\n",
    "mean = get_mean(scores)\n",
    "sd = get_sd(scores)"
   ]
  },
  {
   "cell_type": "markdown",
   "metadata": {},
   "source": [
    "<h2>Setup your graphic</h2>\n",
    "<p>This part is very similar to how you did the bar chart.</p>"
   ]
  },
  {
   "cell_type": "code",
   "execution_count": 4,
   "metadata": {},
   "outputs": [
    {
     "data": {
      "text/plain": [
       "<matplotlib.text.Text at 0x1b47cad6be0>"
      ]
     },
     "execution_count": 4,
     "metadata": {},
     "output_type": "execute_result"
    }
   ],
   "source": [
    "# My x_range is based on how I created my random list of scores.\n",
    "x_range = list(range(50, 100, 10))\n",
    "\n",
    "# The y_range is just as before, only now the maximum is the # of students\n",
    "y_range = list(range(0, len(scores)))\n",
    "\n",
    "# Again, place this above all of your figures. \n",
    "# It just ensures gridlines appear behind everything else.\n",
    "plt.rc(\"axes\", axisbelow=True)\n",
    "\n",
    "# Give this figure a unique number.\n",
    "plt.figure(1)\n",
    "\n",
    "# Create x-axis tickmarks according to the x_range. \n",
    "plt.xticks(x_range)\n",
    "\n",
    "# Create the y-axis tickmarks according to the y_range.\n",
    "plt.yticks(y_range)\n",
    "\n",
    "# Create horizontal gridlines so it's easier to measure the bars.\n",
    "plt.grid(axis=\"y\")\n",
    "\n",
    "# What's the name of your graphic?\n",
    "# I'm using \\N{DEGREE SIGN} ensure the degree sign goes before F. \n",
    "# And of course, \\n just puts everything after it on the next line. \n",
    "plt.title('Distribution of Exam Scores\\nmean = {} sd = {}'.format(mean, sd))\n",
    "\n",
    "# So let's label the axes.\n",
    "plt.xlabel(\"Scores\")\n",
    "plt.ylabel(\"Frequency\")"
   ]
  },
  {
   "cell_type": "markdown",
   "metadata": {},
   "source": [
    "<h2>Deciding the number of bins</h2>\n",
    "<p>Drawing the histogram isn't much different from drawing bar charts.\n",
    "<br>The biggest difference is deciding how many \"bins\" there are.\n",
    "<br>\"bins\" are the number of intervals (e.g., scores 0-10, 11-20, 21-30)\n",
    "<br>If you've done stem and leaf plots, you know exactly what a bin is.\n",
    "<br>Here is an example:\n",
    "<br><img src=\"stem-leaf-plot.png\" alt=\"stem-leaf-plot.png\" width=\"400px\" height=\"400px\">\n",
    "<br>The histogram is kind of like taking that and flipping it 90 degrees to the left.\n",
    "<br>matplotlib can determine the size of each bin (\"bin width\"), so long as you tell it how many you need.\n",
    "<br>But...how many <em>do</em> you need?\n",
    "<br>Click here, and scroll down to <b>\"Choosing the Correct Bin Width\"</b>: <a href=\"https://statistics.laerd.com/statistical-guides/understanding-histograms.php\">https://statistics.laerd.com/statistical-guides/understanding-histograms.php</a>\n",
    "<br>In conclusion, you'll just have to eyeball it. Generally, you'll want somewhere between <b>5-20 bins</b>.\n",
    "<br>matplotlib can do it for you if you choose \"auto\". But you can enter a number too if you'd like.</p>"
   ]
  },
  {
   "cell_type": "markdown",
   "metadata": {},
   "source": [
    "<h2>Draw the histogram</h2>\n",
    "<p>We will use \"auto\" to let matplotlib decide how many bins we need.\n",
    "<br>If your histogram doesn't look right, you should enter your own value.\n",
    "<br<</p>"
   ]
  },
  {
   "cell_type": "code",
   "execution_count": 5,
   "metadata": {},
   "outputs": [
    {
     "data": {
      "image/png": "[encoded data removed]",
      "text/plain": [
       "<matplotlib.figure.Figure at 0x1b47ab48048>"
      ]
     },
     "metadata": {},
     "output_type": "display_data"
    }
   ],
   "source": [
    "# Draw the histogram.\n",
    "plt.hist(scores, bins=\"auto\", edgecolor=\"black\")\n",
    "\n",
    "# Show the figure.\n",
    "plt.show()"
   ]
  },
  {
   "cell_type": "markdown",
   "metadata": {},
   "source": [
    "<h2>That's all!</h2>\n",
    "<p>There is more to histograms, but this is all you'll need for this course. \n",
    "<br>I suggest playing around with this more until you feel more comfortable. \n",
    "<br>And you can learn a lot by utilizing the excellent documentation I linked at the top.</p>"
   ]
  }
 ],
 "metadata": {
  "kernelspec": {
   "display_name": "Python 3",
   "language": "python",
   "name": "python3"
  },
  "language_info": {
   "codemirror_mode": {
    "name": "ipython",
    "version": 3
   },
   "file_extension": ".py",
   "mimetype": "text/x-python",
   "name": "python",
   "nbconvert_exporter": "python",
   "pygments_lexer": "ipython3",
   "version": "3.6.0"
  }
 },
 "nbformat": 4,
 "nbformat_minor": 1
}
