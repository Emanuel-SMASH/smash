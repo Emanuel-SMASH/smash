{
 "cells": [
  {
   "cell_type": "markdown",
   "metadata": {
    "collapsed": true
   },
   "source": [
    "<h1>SQL Database Tables Guide</h1>\n",
    "<p><b>For SMASH CS Fundamentals II: Data Analysis</b>\n",
    "<br>This guide teaches you how to create, query, and manipulate a database with basic SQL statements. \n",
    "<br>\n",
    "<br>Key SQL Queries and Clauses for this course:\n",
    "<br>\n",
    "<ul>\n",
    "    <li>CREATE TABLE: <a href=\"https://www.tutorialspoint.com/sqlite/sqlite_create_table.htm\">https://www.tutorialspoint.com/sqlite/sqlite_create_table.htm</a></li>\n",
    "    <li>DROP TABLE: <a href=\"https://www.tutorialspoint.com/sqlite/sqlite_drop_table.htm\">https://www.tutorialspoint.com/sqlite/sqlite_drop_table.htm</a></li>\n",
    "    <li>ALTER TABLE: <a href=\"https://www.tutorialspoint.com/sqlite/sqlite_alter_command.htm\">https://www.tutorialspoint.com/sqlite/sqlite_alter_command.htm</a></li>\n",
    "    <li>INSERT: <a href=\"https://www.tutorialspoint.com/sqlite/sqlite_insert_query.htm\">https://www.tutorialspoint.com/sqlite/sqlite_insert_query.htm</a></li>\n",
    "    <li>DELETE: <a href=\"https://www.tutorialspoint.com/sqlite/sqlite_delete_query.htm\">https://www.tutorialspoint.com/sqlite/sqlite_delete_query.htm</a></li>\n",
    "    <li>SELECT: <a href=\"https://www.tutorialspoint.com/sqlite/sqlite_select_query.htm\">https://www.tutorialspoint.com/sqlite/sqlite_select_query.htm</a></li>\n",
    "    <li>UPDATE: <a href=\"https://www.tutorialspoint.com/sqlite/sqlite_update_query.htm\">https://www.tutorialspoint.com/sqlite/sqlite_update_query.htm</a></li>\n",
    "    <li>WHERE: <a href=\"https://www.tutorialspoint.com/sqlite/sqlite_where_clause.htm\">https://www.tutorialspoint.com/sqlite/sqlite_where_clause.htm</a></li>\n",
    "    <li>AND / OR: <a href=\"https://www.tutorialspoint.com/sqlite/sqlite_and_or_clauses.htm\">https://www.tutorialspoint.com/sqlite/sqlite_and_or_clauses.htm</a></li>\n",
    "    <li>ORDER BY: <a href=\"https://www.tutorialspoint.com/sqlite/sqlite_order_by.htm\">https://www.tutorialspoint.com/sqlite/sqlite_order_by.htm</a></li>\n",
    "    <li>LIMIT: <a href=\"https://www.tutorialspoint.com/sqlite/sqlite_limit_clause.htm\">https://www.tutorialspoint.com/sqlite/sqlite_limit_clause.htm</a></li>\n",
    "</ul>\n",
    "<br>\n",
    "Before we get started, here's some context.</p>"
   ]
  },
  {
   "cell_type": "markdown",
   "metadata": {},
   "source": [
    "<hr>\n",
    "<h2>What is a database?</h2>\n",
    "<p>In the world of CS, a <b>database</b> is data organized into <b>tables</b> for computer processing.\n",
    "<br>Such data is usually very large, comes from various sources, and quite messy. \n",
    "<br>Hence the need to organize it in a uniform way.\n",
    "<br>\n",
    "<br>A spreadsheet (e.g., Excel) can <i>behave</i> like a database table, but is not necessarily one.\n",
    "<br>This is because spreadsheets can represent data in a non-uniform way.\n",
    "<br>Spreadsheets are the wild west when it comes to data.  There are no rules, really.\n",
    "<br>This means, in terms of structure, a spreadsheet is like a box of chocolates: you never know what you're going to get.\n",
    "<br>\n",
    "<br>On the contrary, database tables <b>must</b> be uniform. \n",
    "<br>\"Uniform\" means there are very strict rules that must be followed or the database will break. \n",
    "<br>Again, because there is so much data, things need to be well-defined and consistent.\n",
    "<br>The rows and columns in a database table aren't just there for show, unlike with a spreadsheet.\n",
    "<br>\n",
    "<br>I hope as you play with databases, you'll slowly learn the rules through experience.\n",
    "<br>Experience is the best teacher, after all.</p>"
   ]
  },
  {
   "cell_type": "markdown",
   "metadata": {},
   "source": [
    "<h2>What are database table rules?</h2>\n",
    "<p>I knew you'd ask.\n",
    "<br>Take a look at this (from: http://www.plus2net.com/sql_tutorial/table-records.php):\n",
    "<br><img src=\"table-example.png\" alt=\"table-example.png\">\n",
    "<br>Those are the rules. Too simple, one might say.\n",
    "<br>Namely, everything is a <b>record</b> (we see them as \"rows\"). \n",
    "<br>There are <b>no</b> \"empty\" rows. The size of the table is always exactly the number of records it contains.\n",
    "<br>Records consist of a bunch of <b>fields</b>, like id, age, weight, favorite ice cream flavor, etc.\n",
    "<br>These fields are the columns. They <i>define</i> the records.\n",
    "<br>If you insert a record into the table, you'll need to insert values in the exact order that the fields appear.\n",
    "<br>So if I add an employee to the table, I'd need to specify <i>EmpNo, Name, Age, Department, Salary,</i> in that exact order.\n",
    "<br>Spreadsheets allow you to get away with organizing this stuff however you want. You can even use pictures, have empty rows, etc.\n",
    "<br>Database tables be like, \"Nah fam.\""
   ]
  },
  {
   "cell_type": "markdown",
   "metadata": {},
   "source": [
    "<h2>What is SQL?</h2>\n",
    "<p><b>SQL</b> stands for <b>Structured Query Language</b>.\n",
    "<br>SQL is usually pronounced <i>\"sequel\"</i>, but some people pronounce it <i>\"es-kew-el\"</i>. SQL itself doesn't care, and neither should you.\n",
    "<br>SQL is a way to talk to a database and manage it with the quickness.\n",
    "<br>SQL by itself is like sheet music, if you will, waiting to be played.\n",
    "<br>For SQL to do anything, it needs a relational database.</p>"
   ]
  },
  {
   "cell_type": "markdown",
   "metadata": {},
   "source": [
    "<h2>What is a relational database?</h2>\n",
    "<p>You sure do ask a lot of questions.\n",
    "<br>But that's cool. I like that. You're cool. I like you.\n",
    "<br>\n",
    "<br>You already know what a database is. In theory, at least.\n",
    "<br>In a <b>relational database</b>, records in one table point or “relate” to records in other tables. \n",
    "<br>For example, in a “music” database, records in the “songs” table relate to records in both “artists” and “albums” tables. \n",
    "<br>Here's an illustration of the first example:\n",
    "<br><img src=\"relational-example.png\" alt=\"relational-example.png\">\n",
    "<br>\n",
    "<br>This might not seem like a big deal right now. \n",
    "<br>And in terms of what you'll do in this class, it isn't.  \n",
    "<br>But I just wanted to give you a taste of this, since I guarantee you you'll encounter them again one day."
   ]
  },
  {
   "cell_type": "markdown",
   "metadata": {},
   "source": [
    "<h2>What is a Relational Database Management System?</h2>\n",
    "<p>A <b>Relational Database Management System (RDBMS)</b> is essentially the SQL engine managing the data.\n",
    "<br>It's right there in the name: Relational. Database. Management. System. Mind = blown!\n",
    "<br>\n",
    "<br>There are many RDBMS in the industry that work with the standard SQL language, each with its own unique features. \n",
    "<br>Some popular ones are MySQL, PostgreSQL, Oracle Database, and Microsoft SQL Server.\n",
    "<br>It's all still SQL, just with a hint of pepper here, a dash of object-oriented programming there... \n",
    "<br>So learning standard SQL syntax is the first step toward understanding these RDBMS.\n",
    "<br>\n",
    "<br>RDBMS, like all I just mentioned, usually require a client-server environment, since most databases exist on servers. \n",
    "<br>For example, your Facebook account data (pictures, status updates, etc) is not stored in your phone or computer.\n",
    "<br>It is \"fetched\" from a gigantic database server, which is almost certainly managed by a RDBMS.\n",
    "<br>\n",
    "<br>We will use a lightweight RDBMS called <b>SQLite</b>. \n",
    "<br>SQLite uses standard-yet-simplified SQL syntax. \n",
    "<br>Most importantly, SQLite was made to be run within a client itself (i.e., your phone).\n",
    "<br>It is popular among applications with embedded databases (e.g., a Pokemon game).</p>\n",
    "<br>This makes it the easiest way to learn SQL syntax, since you don't need to configure anything.\n",
    "<br>You'll see how easy it is to get a database up and running with just one simple line of code.\n",
    "<br>\n",
    "<br>Onward!\n",
    "<hr>"
   ]
  },
  {
   "cell_type": "markdown",
   "metadata": {},
   "source": [
    "<h2>Import sqlite3</h2>\n",
    "<p>You need this to use SQLite within Python.</p>"
   ]
  },
  {
   "cell_type": "code",
   "execution_count": 1,
   "metadata": {
    "collapsed": true
   },
   "outputs": [],
   "source": [
    "import sqlite3"
   ]
  },
  {
   "cell_type": "markdown",
   "metadata": {},
   "source": [
    "<h2>Connect to a database, create a cursor</h2>\n",
    "<p>Let's work with a music database.\n",
    "<br>We need to create a connection to it first.\n",
    "<br>If the database doesn't exist, this code creates it for us as well.\n",
    "<br>Note that the database file is located wherever your Python file is."
   ]
  },
  {
   "cell_type": "code",
   "execution_count": 2,
   "metadata": {
    "collapsed": true
   },
   "outputs": [],
   "source": [
    "conn = sqlite3.connect(\"music.db\")"
   ]
  },
  {
   "cell_type": "markdown",
   "metadata": {},
   "source": [
    "<p>We'll also need a cursor or \"cur\". \n",
    "<br>\"cur\" simply refers to the thing that will be doing the fetching and inserting in database for us. \n",
    "<br>You can imagine it like a little robot scurrying all over the database, following our every command.</p>"
   ]
  },
  {
   "cell_type": "code",
   "execution_count": 3,
   "metadata": {
    "collapsed": true
   },
   "outputs": [],
   "source": [
    "cur = conn.cursor()"
   ]
  },
  {
   "cell_type": "markdown",
   "metadata": {},
   "source": [
    "<hr>\n",
    "<h2>A brief word on SQL statements and semicolons</h2>\n",
    "<br>SQL consists of <b>statements</b>, which are like sentences.\n",
    "<br>Now, outside of Python, these statements normally end with <b>semicolons (;)</b>.\n",
    "<br>Example: \n",
    "<br><b>DROP TABLE IF EXISTS Artists;</b>\n",
    "<br>Otherwise, you'd get \"run-on statements\". Which would be a problem... outside of Python.\n",
    "<br>However, in Python we're passing one statement at a time. \n",
    "<br>And behind the scenes, Python automatically adds a semicolon to the end if a statement isn't there. \n",
    "<br>Long story short, they aren't needed in Python but they are standard elsehwere.\n",
    "<br>So don't freak out that I'm not including them here. Nobody really does in Python. \n",
    "<br>Lazy programmers...\n",
    "<hr>"
   ]
  },
  {
   "cell_type": "markdown",
   "metadata": {},
   "source": [
    "<h2>Create a table</h2>\n",
    "<p>We'll make just one table called \"musicians\".\n",
    "<br>Our SQL statements are passed as strings to the Python function <b>cur.execute()</b>\n",
    "<br>So get used to typing that."
   ]
  },
  {
   "cell_type": "code",
   "execution_count": 4,
   "metadata": {},
   "outputs": [
    {
     "data": {
      "text/plain": [
       "<sqlite3.Cursor at 0x7f80701e97a0>"
      ]
     },
     "execution_count": 4,
     "metadata": {},
     "output_type": "execute_result"
    }
   ],
   "source": [
    "# Drop (i.e., delete) the table if it already exists. \n",
    "# Otherwise you'll get an error the second time you run your program.\n",
    "cur.execute(\"DROP TABLE IF EXISTS Musicians\")"
   ]
  },
  {
   "cell_type": "markdown",
   "metadata": {},
   "source": [
    "<p>Creating the table means defining each record's fields (i.e., the columns).\n",
    "<br>Each field has a <b>name</b> and a <b>type</b>. \n",
    "<br>SQLite has only a few types you need to care about:\n",
    "<ul>\n",
    "    <li><b>TEXT</b>: any string (\"Hello\", \"World\", \"123\")</li>\n",
    "    <li><b>INTEGER</b>: any integer (1, 5, -7)</li>\n",
    "    <li><b>REAL</b>: any float (3.14, 95.2, 0.0)</li>\n",
    "</ul>\n",
    "There's also NULL, which I'll get to in a bit.</p>"
   ]
  },
  {
   "cell_type": "code",
   "execution_count": 5,
   "metadata": {},
   "outputs": [
    {
     "data": {
      "text/plain": [
       "<sqlite3.Cursor at 0x7f80701e97a0>"
      ]
     },
     "execution_count": 5,
     "metadata": {},
     "output_type": "execute_result"
    }
   ],
   "source": [
    "cur.execute(\"CREATE TABLE Musicians(\"\n",
    "            \"artistId INTEGER PRIMARY KEY, \"\n",
    "            \"name TEXT NOT NULL, \"\n",
    "            \"genre TEXT, \"\n",
    "            \"hometown TEXT)\")"
   ]
  },
  {
   "cell_type": "markdown",
   "metadata": {},
   "source": [
    "<p>Notice that I made artistId my <b>PRIMARY KEY.</b>\n",
    "<br>That means it'll be used to identify the record.\n",
    "<br>PRIMARY KEYs cannot have duplicates values, unlike other fields.\n",
    "<br>\n",
    "<br>Sidenote: \n",
    "<br>SQL statements can get pretty lengthy. \n",
    "<br>So you'll typically see me break one statement into several lines for readability. \n",
    "<br>The long way of writing the above: \n",
    "<br>\n",
    "<br><b>cur.execute(\"CREATE TABLE Musicians(artistId INTEGER PRIMARY KEY, name TEXT, genre TEXT, hometown TEXT)\")</b>\n",
    "<br>\n",
    "<br>See how long that line is? Yeah.</p>"
   ]
  },
  {
   "cell_type": "markdown",
   "metadata": {},
   "source": [
    "<h2>Alter a table</h2>\n",
    "<p>Sometimes you wish to add fields to your records.\n",
    "<br>Perhaps, for instance, you have a table of basketball teams...\n",
    "<br>...and each column represents a year's # of games won. \n",
    "<br>So you'd simply add one new column every year.\n",
    "<br>You can accomplish this using the <b>ALTER TABLE</b> query.</p>"
   ]
  },
  {
   "cell_type": "code",
   "execution_count": 6,
   "metadata": {},
   "outputs": [
    {
     "data": {
      "text/plain": [
       "<sqlite3.Cursor at 0x7f80701e97a0>"
      ]
     },
     "execution_count": 6,
     "metadata": {},
     "output_type": "execute_result"
    }
   ],
   "source": [
    "cur.execute(\"ALTER TABLE Musicians ADD COLUMN numAlbums INTEGER\")"
   ]
  },
  {
   "cell_type": "markdown",
   "metadata": {},
   "source": [
    "<p>You can also rename your table, like so.</p>"
   ]
  },
  {
   "cell_type": "code",
   "execution_count": 7,
   "metadata": {},
   "outputs": [
    {
     "data": {
      "text/plain": [
       "<sqlite3.Cursor at 0x7f80701e97a0>"
      ]
     },
     "execution_count": 7,
     "metadata": {},
     "output_type": "execute_result"
    }
   ],
   "source": [
    "# Should drop the new name if it already exists.\n",
    "cur.execute(\"DROP TABLE IF EXISTS Artists\")\n",
    "cur.execute(\"ALTER TABLE Musicians RENAME TO Artists\")"
   ]
  },
  {
   "cell_type": "markdown",
   "metadata": {},
   "source": [
    "<h2>Insert some records</h2>\n",
    "<p>There are a few ways to do this.\n",
    "<br>\n",
    "<br><b>INSERT Method 1</b> \n",
    "<br>This method allows you to fill only certain fields. \n",
    "<br>Any fields you leave out will be entered as <b>NULL</b>, or empty.\n",
    "<br>You can disallow NULL data for certain fields by including the <b>NOT NULL</b> clause, as I did with \"name\".</p>"
   ]
  },
  {
   "cell_type": "code",
   "execution_count": 8,
   "metadata": {},
   "outputs": [
    {
     "data": {
      "text/plain": [
       "<sqlite3.Cursor at 0x7f80701e9880>"
      ]
     },
     "execution_count": 8,
     "metadata": {},
     "output_type": "execute_result"
    }
   ],
   "source": [
    "conn.execute(\"INSERT INTO \"\n",
    "             \"Artists(name, genre, hometown, numAlbums) \"\n",
    "             \"VALUES('Keebler Elf Lamar', 'Hip Hop', 'Compton', 3)\")"
   ]
  },
  {
   "cell_type": "markdown",
   "metadata": {},
   "source": [
    "<p><br>Also, notice how I do not include artistId.\n",
    "<br>Normally, SQL will just place a NULL value where you don't specify any data. \n",
    "<br>But for a PRIMARY KEY (like artistId), it will simply increment the value for you. \n",
    "<br>Pretty nifty, huh?</p>"
   ]
  },
  {
   "cell_type": "markdown",
   "metadata": {},
   "source": [
    "<p><b>INSERT Method 2</b>\n",
    "<br>This method is shorter, but you must fill all the fields. \n",
    "<br>You can enter NULL for the PRIMARY KEY and let SQL increment it for you. Just like above.\n",
    "<br>But you cannot enter NULL for name, since we said we won't it.</p>"
   ]
  },
  {
   "cell_type": "code",
   "execution_count": 9,
   "metadata": {},
   "outputs": [
    {
     "data": {
      "text/plain": [
       "<sqlite3.Cursor at 0x7f80701e9810>"
      ]
     },
     "execution_count": 9,
     "metadata": {},
     "output_type": "execute_result"
    }
   ],
   "source": [
    "conn.execute(\"INSERT INTO Artists VALUES(null, 'Beethoven', 'Classical', 'Germany', 9)\")"
   ]
  },
  {
   "cell_type": "markdown",
   "metadata": {},
   "source": [
    "<p><b>INSERT Method 3</b>\n",
    "<br>This is essentially identical to the above, but with one important distinction: those question marks are parameters.\n",
    "<br>This method is cool because it mitigates a very simple hack called <b>SQL injection</b>.\n",
    "<br>SQL injection is probably the easiest way to hack a poorly-secured database.\n",
    "<br>You won't need to worry about it for our little project here. No one is trying to hack your database. \n",
    "<br>But it's good to learn this method anyway.\n",
    "<br>\n",
    "<br>If you're curious about SQL injection and how this method mitigates it, read this excellent explanation here: \n",
    "<br>https://stackoverflow.com/questions/13613037/is-this-python-code-vulnerable-to-sql-injection-sqlite3\n",
    "<br>The posted comic is why folks humorously refer to SQL injection as \"Bobby Tables.\" ^_^\n",
    "</p>"
   ]
  },
  {
   "cell_type": "code",
   "execution_count": 10,
   "metadata": {},
   "outputs": [
    {
     "data": {
      "text/plain": [
       "<sqlite3.Cursor at 0x7f80701e9a40>"
      ]
     },
     "execution_count": 10,
     "metadata": {},
     "output_type": "execute_result"
    }
   ],
   "source": [
    "conn.execute(\"INSERT INTO Artists VALUES(?, ?, ?, ?, ?)\",\n",
    "            (None, \"IceJJFish\", \"????\", \"The Abyss\", 1))"
   ]
  },
  {
   "cell_type": "markdown",
   "metadata": {},
   "source": [
    "<p>You can insert multiple records using a loop.</p>"
   ]
  },
  {
   "cell_type": "code",
   "execution_count": 11,
   "metadata": {
    "collapsed": true
   },
   "outputs": [],
   "source": [
    "# Insert multiple records \n",
    "names = [\"Tupac\", \"Bjork\", \"Debussy\", \"Coltrane\"]\n",
    "genres = [\"Hip Hop\", \"Electronica\", \"Impressionism\", \"Jazz\"]\n",
    "hometowns = [\"Harlem\", \"Iceland\", \"France\", \"Hamlet\"]\n",
    "albums = [5, 9, None, 45] # \"None\" in Python represents \"NULL\" in SQL\n",
    "\n",
    "for i in range(0, len(names)):\n",
    "    conn.execute(\"INSERT INTO Artists VALUES(?, ?, ?, ?, ?)\",\n",
    "                (None, names[i], genres[i], hometowns[i], albums[i]))"
   ]
  },
  {
   "cell_type": "markdown",
   "metadata": {},
   "source": [
    "<h2>Select all fields from all records</h2>\n",
    "<p><b>SELECT</b> is how we retrieve records from the table.\n",
    "<br>We can be as general or as specific as we want using various <b>clauses</b> to modify our query.\n",
    "<br>First we'll learn how to select all fields from all records from our table.</p>"
   ]
  },
  {
   "cell_type": "code",
   "execution_count": 12,
   "metadata": {},
   "outputs": [
    {
     "data": {
      "text/plain": [
       "<sqlite3.Cursor at 0x7f80701e97a0>"
      ]
     },
     "execution_count": 12,
     "metadata": {},
     "output_type": "execute_result"
    }
   ],
   "source": [
    "# Give me everything!\n",
    "cur.execute(\"SELECT * FROM Artists\")"
   ]
  },
  {
   "cell_type": "markdown",
   "metadata": {},
   "source": [
    "<p>The cursor now contains a bunch of rows, each one a record from the table.\n",
    "<br>We can ask the cursor to give us one row at a time...</p>"
   ]
  },
  {
   "cell_type": "code",
   "execution_count": 13,
   "metadata": {},
   "outputs": [
    {
     "name": "stdout",
     "output_type": "stream",
     "text": [
      "(1, 'Keebler Elf Lamar', 'Hip Hop', 'Compton', 3)\n"
     ]
    }
   ],
   "source": [
    "# Get one record as a tuple\n",
    "data = cur.fetchone()\n",
    "print(data)"
   ]
  },
  {
   "cell_type": "markdown",
   "metadata": {},
   "source": [
    "<p>...<em>some</em> rows...</p>"
   ]
  },
  {
   "cell_type": "code",
   "execution_count": 14,
   "metadata": {},
   "outputs": [
    {
     "name": "stdout",
     "output_type": "stream",
     "text": [
      "[(1, 'Keebler Elf Lamar', 'Hip Hop', 'Compton', 3), (2, 'Beethoven', 'Classical', 'Germany', 9)]\n"
     ]
    }
   ],
   "source": [
    "# Get as many rows as you specify, as a list of tuples\n",
    "cur.execute(\"SELECT * FROM Artists\")\n",
    "data = cur.fetchmany(2)\n",
    "print(data)"
   ]
  },
  {
   "cell_type": "markdown",
   "metadata": {},
   "source": [
    "<p>...or all of its rows.</p>"
   ]
  },
  {
   "cell_type": "code",
   "execution_count": 15,
   "metadata": {},
   "outputs": [
    {
     "name": "stdout",
     "output_type": "stream",
     "text": [
      "[(1, 'Keebler Elf Lamar', 'Hip Hop', 'Compton', 3), (2, 'Beethoven', 'Classical', 'Germany', 9), (3, 'IceJJFish', '????', 'The Abyss', 1), (4, 'Tupac', 'Hip Hop', 'Harlem', 5), (5, 'Bjork', 'Electronica', 'Iceland', 9), (6, 'Debussy', 'Impressionism', 'France', None), (7, 'Coltrane', 'Jazz', 'Hamlet', 45)]\n"
     ]
    }
   ],
   "source": [
    "# Get all rows as a list of tuples\n",
    "cur.execute(\"SELECT * FROM Artists\")\n",
    "data = cur.fetchall()\n",
    "print(data)"
   ]
  },
  {
   "cell_type": "markdown",
   "metadata": {},
   "source": [
    "<p>Notice how in either case, individual records are represented as <b>tuples.</b> \n",
    "<br>This is because records are supposed to be <b>immutable</b>. \n",
    "<br>You aren't supposed to be able to change their content or size.\n",
    "<br>You can \"update\" records by changing values in certain fields.\n",
    "<br>But this must be done within SQL itself, not Python. \n",
    "<br>I'll cover how in a bit.\n",
    "<br>\n",
    "<br>You can neatly print multiple rows like this:</p>"
   ]
  },
  {
   "cell_type": "code",
   "execution_count": 16,
   "metadata": {},
   "outputs": [
    {
     "name": "stdout",
     "output_type": "stream",
     "text": [
      "(1, 'Keebler Elf Lamar', 'Hip Hop', 'Compton', 3)\n",
      "(2, 'Beethoven', 'Classical', 'Germany', 9)\n",
      "(3, 'IceJJFish', '????', 'The Abyss', 1)\n",
      "(4, 'Tupac', 'Hip Hop', 'Harlem', 5)\n",
      "(5, 'Bjork', 'Electronica', 'Iceland', 9)\n",
      "(6, 'Debussy', 'Impressionism', 'France', None)\n",
      "(7, 'Coltrane', 'Jazz', 'Hamlet', 45)\n"
     ]
    }
   ],
   "source": [
    "cur.execute(\"SELECT * FROM Artists\")\n",
    "for row in cur:\n",
    "    print(row)"
   ]
  },
  {
   "cell_type": "markdown",
   "metadata": {},
   "source": [
    "<p>The best part about all this is you're still in Python.\n",
    "<br>You know how to work with tuples and lists. \n",
    "<br>So you can do stuff like this.</p>"
   ]
  },
  {
   "cell_type": "code",
   "execution_count": 17,
   "metadata": {},
   "outputs": [
    {
     "name": "stdout",
     "output_type": "stream",
     "text": [
      "Keebler Elf Lamar\n",
      "Beethoven\n"
     ]
    }
   ],
   "source": [
    "# Print the names of the first two records\n",
    "cur.execute(\"SELECT * FROM Artists\")\n",
    "data = cur.fetchmany(2)\n",
    "for row in data:\n",
    "    print(row[1])"
   ]
  },
  {
   "cell_type": "markdown",
   "metadata": {},
   "source": [
    "<p>This is one reason why Python is such a convient data analysis tool.\n",
    "<br>It's also why I'm having you learn SQL from within it.\n",
    "<br>Not only will you be able to do all that quantitative and visual stuff you've already covered...\n",
    "<br>...but now you're armed with an embedded SQL database, to boot.\n",
    "<br>All within one program!</p>"
   ]
  },
  {
   "cell_type": "markdown",
   "metadata": {},
   "source": [
    "<h2>Select certain fields from all records</h2>\n",
    "<p>Instead of using the * (asterisk), which gives us everything, we can specify the fields we want.</p>"
   ]
  },
  {
   "cell_type": "code",
   "execution_count": 18,
   "metadata": {},
   "outputs": [
    {
     "name": "stdout",
     "output_type": "stream",
     "text": [
      "Keebler Elf Lamar\n",
      "Beethoven\n",
      "IceJJFish\n",
      "Tupac\n",
      "Bjork\n",
      "Debussy\n",
      "Coltrane\n"
     ]
    }
   ],
   "source": [
    "# Select the name of all artists.\n",
    "cur.execute(\"SELECT name FROM Artists\")\n",
    "for row in cur:\n",
    "    print(row[0])"
   ]
  },
  {
   "cell_type": "code",
   "execution_count": 19,
   "metadata": {},
   "outputs": [
    {
     "name": "stdout",
     "output_type": "stream",
     "text": [
      "Keebler Elf Lamar : Hip Hop\n",
      "Beethoven : Classical\n",
      "IceJJFish : ????\n",
      "Tupac : Hip Hop\n",
      "Bjork : Electronica\n",
      "Debussy : Impressionism\n",
      "Coltrane : Jazz\n"
     ]
    }
   ],
   "source": [
    "# Select the name and genre of all artists\n",
    "cur.execute(\"SELECT name, genre FROM Artists\")\n",
    "for row in cur:\n",
    "    print(row[0], \":\", row[1])"
   ]
  },
  {
   "cell_type": "markdown",
   "metadata": {},
   "source": [
    "<h2>Select with clauses</h2>\n",
    "<p>The <b>WHERE</b> clause lets us specify which records we want.\n",
    "<br>You simply enter WHERE and an <b>expression</b> that can be evaluated as <b>True</b> or <b>False</b></p>"
   ]
  },
  {
   "cell_type": "code",
   "execution_count": 20,
   "metadata": {},
   "outputs": [
    {
     "name": "stdout",
     "output_type": "stream",
     "text": [
      "(1, 'Keebler Elf Lamar', 'Hip Hop', 'Compton', 3)\n"
     ]
    }
   ],
   "source": [
    "# Select all fields from records whose name is \"Keebler Elf Lamar\".\n",
    "cur.execute(\"SELECT * FROM Artists WHERE name = 'Keebler Elf Lamar'\")\n",
    "print(cur.fetchone())"
   ]
  },
  {
   "cell_type": "code",
   "execution_count": 21,
   "metadata": {},
   "outputs": [
    {
     "name": "stdout",
     "output_type": "stream",
     "text": [
      "Germany\n",
      "The Abyss\n",
      "Harlem\n",
      "Iceland\n"
     ]
    }
   ],
   "source": [
    "# Select the hometown of records whose artistId is between 2 and 5, inclusive.\n",
    "cur.execute(\"SELECT hometown FROM Artists WHERE artistId >= 2 AND artistID <= 5\")\n",
    "for row in cur:\n",
    "    print(row[0])"
   ]
  },
  {
   "cell_type": "markdown",
   "metadata": {},
   "source": [
    "<p>The <b>ORDER BY</b> clause allows you to order the rows in cur by some field.\n",
    "<br>If you order by an INTEGER or REAL field type, the values will be arranged in numerical order.\n",
    "<br>If you order by a TEXT field type, the values will be arranged alphabetically.</p>"
   ]
  },
  {
   "cell_type": "code",
   "execution_count": 22,
   "metadata": {},
   "outputs": [
    {
     "name": "stdout",
     "output_type": "stream",
     "text": [
      "(1, 'Keebler Elf Lamar', 'Hip Hop', 'Compton', 3)\n",
      "(6, 'Debussy', 'Impressionism', 'France', None)\n",
      "(2, 'Beethoven', 'Classical', 'Germany', 9)\n",
      "(7, 'Coltrane', 'Jazz', 'Hamlet', 45)\n",
      "(4, 'Tupac', 'Hip Hop', 'Harlem', 5)\n",
      "(5, 'Bjork', 'Electronica', 'Iceland', 9)\n",
      "(3, 'IceJJFish', '????', 'The Abyss', 1)\n"
     ]
    }
   ],
   "source": [
    "# Select all fields from all artists, but order by hometown.\n",
    "cur.execute(\"SELECT * FROM Artists ORDER BY hometown\")\n",
    "for row in cur:\n",
    "    print(row)"
   ]
  },
  {
   "cell_type": "code",
   "execution_count": 23,
   "metadata": {},
   "outputs": [
    {
     "name": "stdout",
     "output_type": "stream",
     "text": [
      "Impressionism : None\n",
      "Hip Hop : 5\n",
      "Electronica : 9\n",
      "Jazz : 45\n"
     ]
    }
   ],
   "source": [
    "# Select genres and numAlbums from all artists with artistId > 3, and order by numAlbums.\n",
    "cur.execute(\"SELECT genre, numAlbums FROM Artists WHERE artistID > 3 ORDER BY numAlbums\")\n",
    "for row in cur:\n",
    "    print(row[0], \":\", row[1])"
   ]
  },
  {
   "cell_type": "markdown",
   "metadata": {},
   "source": [
    "<p>The <b>LIMIT</b> clause allows you to specify how many rows you want cur to hold.\n",
    "<br>This is very useful when you're just sampling a massive database.\n",
    "<br>In such a case, you'd only want to see a few records to get a sense of how the data is structured.</p>"
   ]
  },
  {
   "cell_type": "code",
   "execution_count": 24,
   "metadata": {},
   "outputs": [
    {
     "name": "stdout",
     "output_type": "stream",
     "text": [
      "(1, 'Keebler Elf Lamar', 'Hip Hop', 'Compton', 3)\n",
      "(2, 'Beethoven', 'Classical', 'Germany', 9)\n",
      "(3, 'IceJJFish', '????', 'The Abyss', 1)\n"
     ]
    }
   ],
   "source": [
    "# Select all fields from all records, but limit to the first 3 records.\n",
    "cur.execute(\"SELECT * FROM Artists LIMIT 3\")\n",
    "for row in cur:\n",
    "    print(row)"
   ]
  },
  {
   "cell_type": "markdown",
   "metadata": {},
   "source": [
    "<h2>Update record data</h2>\n",
    "<p>You'll often need to update records in your table.\n",
    "<br>This can be done with the <b>UPDATE</b> query.</p>"
   ]
  },
  {
   "cell_type": "code",
   "execution_count": 25,
   "metadata": {},
   "outputs": [
    {
     "name": "stdout",
     "output_type": "stream",
     "text": [
      "(1, 'Kendrick Lamar', 'Hip Hop', 'Compton', 3)\n"
     ]
    }
   ],
   "source": [
    "# Change Keebler Elf Lamar to Kendrick Lamar\n",
    "cur.execute(\"UPDATE Artists SET name = 'Kendrick Lamar' WHERE name = 'Keebler Elf Lamar'\")\n",
    "cur.execute(\"SELECT * FROM Artists WHERE artistID = 1\")\n",
    "print(cur.fetchone())"
   ]
  },
  {
   "cell_type": "markdown",
   "metadata": {},
   "source": [
    "<p>You can even update multiple fields at the same time.</p>"
   ]
  },
  {
   "cell_type": "code",
   "execution_count": 26,
   "metadata": {},
   "outputs": [
    {
     "name": "stdout",
     "output_type": "stream",
     "text": [
      "(3, 'IceJJFish', 'R&B', 'The Abyss', 2)\n"
     ]
    }
   ],
   "source": [
    "# Change IceJJFish's genre to R&B, and his numAlbums to 2\n",
    "cur.execute(\"UPDATE Artists SET genre = 'R&B', numAlbums = 2 WHERE name = 'IceJJFish'\")\n",
    "cur.execute(\"SELECT * FROM Artists WHERE artistId = 3\")\n",
    "print(cur.fetchone())"
   ]
  },
  {
   "cell_type": "markdown",
   "metadata": {},
   "source": [
    "<h2>Deleting records</h2>\n",
    "<p>You can remove records from your table using the <b>DELETE</b> query.\n",
    "<br>Unlike those filthy spreadsheets, all data below the record(s) you are deleting \"move up\".\n",
    "<br>However, the PRIMARY KEY values do NOT change. \n",
    "<br>This is because PRIMARY KEYs are, as I said before, wholly unique values that identify records.\n",
    "<br>Think of it like a Social Security Number.\n",
    "<br>If someone dies, you aren't suddenly assigned a new SSN, are you?\n",
    "<br>Same idea here.</p>"
   ]
  },
  {
   "cell_type": "code",
   "execution_count": 27,
   "metadata": {},
   "outputs": [
    {
     "name": "stdout",
     "output_type": "stream",
     "text": [
      "1 : Kendrick Lamar\n",
      "2 : Beethoven\n",
      "3 : IceJJFish\n",
      "4 : Tupac\n",
      "5 : Bjork\n",
      "7 : Coltrane\n"
     ]
    }
   ],
   "source": [
    "# Remove Debussy from the table\n",
    "cur.execute(\"DELETE FROM Artists WHERE name = 'Debussy'\")\n",
    "cur.execute(\"SELECT artistId, name FROM Artists\")\n",
    "for row in cur:\n",
    "    print(row[0], \":\", row[1])"
   ]
  },
  {
   "cell_type": "markdown",
   "metadata": {},
   "source": [
    "<p>And of course, you can delete all records from a table like this:</p>"
   ]
  },
  {
   "cell_type": "code",
   "execution_count": 28,
   "metadata": {},
   "outputs": [
    {
     "name": "stdout",
     "output_type": "stream",
     "text": [
      "[]\n"
     ]
    }
   ],
   "source": [
    "cur.execute(\"DELETE FROM Artists\")\n",
    "cur.execute(\"SELECT * FROM Artists\")\n",
    "print(cur.fetchall())"
   ]
  },
  {
   "cell_type": "markdown",
   "metadata": {},
   "source": [
    "<p>Uh oh... <strong>WHAT HAVE WE DONE?!?!</strong></p>"
   ]
  },
  {
   "cell_type": "markdown",
   "metadata": {},
   "source": [
    "<h2>Committing transactions</h2>\n",
    "<p>Worry not!\n",
    "<br>So far, nothing we've done has been saved to the database itself.\n",
    "<br>If you want to save any <b>transactions</b> you've made (i.e., CREATE, DROP, INSERT, DELETE)...\n",
    "<br>...you simply \"commit\" (save) them with <b>conn.commit()</b>:</p>"
   ]
  },
  {
   "cell_type": "code",
   "execution_count": 29,
   "metadata": {
    "collapsed": true
   },
   "outputs": [],
   "source": [
    "# Save all changes to the database.\n",
    "conn.commit()"
   ]
  },
  {
   "cell_type": "markdown",
   "metadata": {},
   "source": [
    "<p>Uh... whoops. I actually did delete everything that time, then. \n",
    "<br>Oh well! I can just run this file again and take out that delete stuff.\n",
    "<br>The next time I run this it'll be the <strong>SQL Sequel</strong>. \n",
    "<br>Hehehehe..."
   ]
  },
  {
   "cell_type": "markdown",
   "metadata": {},
   "source": [
    "<h2>Closing your connection to the database</h2>\n",
    "<p>When you're done working with your database, you should close the connection.\n",
    "<br>If you didn't commit changes, they will be lost forever at this step.\n",
    "<br>So often, you want to commit right before you close.\n",
    "<br>In any case, be careful.</p>"
   ]
  },
  {
   "cell_type": "code",
   "execution_count": 30,
   "metadata": {
    "collapsed": true
   },
   "outputs": [],
   "source": [
    "conn.close()"
   ]
  },
  {
   "cell_type": "markdown",
   "metadata": {},
   "source": [
    "<h2>That's all!</h2>\n",
    "<p>There is more to SQL and databases, but this is all you'll need for this course. \n",
    "<br>Well, until I teach you how to <b>import csv files</b> in the next guide. \n",
    "<br>I suggest playing around with this more until you feel more comfortable. \n",
    "<br>And you can learn a lot by utilizing the excellent documentation I linked at the top.</p>"
   ]
  }
 ],
 "metadata": {
  "kernelspec": {
   "display_name": "Python 3",
   "language": "python",
   "name": "python3"
  },
  "language_info": {
   "codemirror_mode": {
    "name": "ipython",
    "version": 3
   },
   "file_extension": ".py",
   "mimetype": "text/x-python",
   "name": "python",
   "nbconvert_exporter": "python",
   "pygments_lexer": "ipython3",
   "version": "3.6.0"
  }
 },
 "nbformat": 4,
 "nbformat_minor": 1
}
