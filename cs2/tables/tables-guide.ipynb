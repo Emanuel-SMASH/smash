{
 "cells": [
  {
   "cell_type": "markdown",
   "metadata": {
    "collapsed": true
   },
   "source": [
    "<h1>SQL Database Tables Guide</h1>\n",
    "<p><b>For SMASH CS Fundamentals II: Data Analysis</b>\n",
    "<br>This guide teaches you how to create, query, and manipulate a database with basic SQL statements. \n",
    "<br>\n",
    "<br>Key SQL Queries and Clauses for this course:\n",
    "<br>\n",
    "<ul>\n",
    "    <li>CREATE TABLE: https://www.tutorialspoint.com/sqlite/sqlite_create_table.htm</li>\n",
    "    <li>DROP TABLE: https://www.tutorialspoint.com/sqlite/sqlite_drop_table.htm</li>\n",
    "    <li>INSERT: https://www.tutorialspoint.com/sqlite/sqlite_insert_query.htm</li>\n",
    "    <li>DELETE: https://www.tutorialspoint.com/sqlite/sqlite_delete_query.htm</li>\n",
    "    <li>SELECT: https://www.tutorialspoint.com/sqlite/sqlite_select_query.htm</li>\n",
    "    <li>UPDATE: https://www.tutorialspoint.com/sqlite/sqlite_update_query.htm</li>\n",
    "    <li>WHERE: https://www.tutorialspoint.com/sqlite/sqlite_where_clause.htm</li>\n",
    "    <li>AND / OR: https://www.tutorialspoint.com/sqlite/sqlite_and_or_clauses.htm</li>\n",
    "    <li>LIMIT: https://www.tutorialspoint.com/sqlite/sqlite_limit_clause.htm</li>\n",
    "    <li>ORDER BY: https://www.tutorialspoint.com/sqlite/sqlite_order_by.htm</li>\n",
    "</ul>\n",
    "<br>Before we get started, here's some context.</p>"
   ]
  },
  {
   "cell_type": "markdown",
   "metadata": {},
   "source": [
    "<hr>\n",
    "<h2>What is a database?</h2>\n",
    "<p>In the world of CS, a <b>database</b> is data organized into <b>tables</b> for computer processing.\n",
    "<br>Such data is usually very large, comes from various sources, and quite messy. \n",
    "<br>Hence the need to organize it in a uniform way.\n",
    "<br>\n",
    "<br>A spreadsheet (e.g., Excel) can <i>behave</i> like a database table, but is not necessarily one.\n",
    "<br>This is because spreadsheets can represent data in a non-uniform way.\n",
    "<br>Spreadsheets are the wild west when it comes to data.  There are no rules, really.\n",
    "<br>This means, in terms of structure, a spreadsheet is like a box of chocolates: you never know what you're going to get.\n",
    "<br>\n",
    "<br>On the contrary, database tables <b>must</b> be uniform. \n",
    "<br>\"Uniform\" means there are very strict rules that must be followed or the database will break. \n",
    "<br>Again, because there is so much data, things need to be well-defined and consistent.\n",
    "<br>The rows and columns in a database table aren't just there for show, unlike with a spreadsheet.\n",
    "<br>\n",
    "<br>I hope as you play with databases, you'll slowly learn the rules through experience.\n",
    "<br>Experience is the best teacher, after all.</p>"
   ]
  },
  {
   "cell_type": "markdown",
   "metadata": {},
   "source": [
    "<h2>What are database table rules?</h2>\n",
    "<p>I knew you'd ask.\n",
    "<br>Take a look at this (from: http://www.plus2net.com/sql_tutorial/table-records.php):\n",
    "<br><img src=\"table-example.png\" alt=\"table-example.png\">\n",
    "<br>Those are the rules. Too simple, one might say.\n",
    "<br>Namely, everything is a <b>record</b> (we see them as \"rows\"). \n",
    "<br>There are <b>no</b> \"empty\" rows. The size of the table is always exactly the number of records it contains.\n",
    "<br>Records consist of a bunch of <b>fields</b>, like id, age, weight, favorite ice cream flavor, etc.\n",
    "<br>These fields are the columns. They <i>define</i> the records.\n",
    "<br>If you insert a record into the table, you'll need to insert values in the exact order that the fields appear.\n",
    "<br>So if I add an employee to the table, I'd need to specify <i>EmpNo, Name, Age, Department, Salary,</i> in that exact order.\n",
    "<br>Spreadsheets allow you to get away with organizing this stuff however you want. You can even use pictures, have empty rows, etc.\n",
    "<br>Database tables be like, \"Nah fam.\""
   ]
  },
  {
   "cell_type": "markdown",
   "metadata": {},
   "source": [
    "<h2>What is SQL?</h2>\n",
    "<p><b>SQL</b> stands for <b>Structured Query Language</b>.\n",
    "<br>SQL is usually pronounced <i>\"sequel\"</i>, but some people pronounce it <i>\"es-kew-el\"</i>. SQL itself doesn't care, and neither should you.\n",
    "<br>SQL is a way to talk to a database and manage it with the quickness.\n",
    "<br>SQL by itself is like sheet music, if you will, waiting to be played.\n",
    "<br>For SQL to do anything, it needs a relational database.</p>"
   ]
  },
  {
   "cell_type": "markdown",
   "metadata": {},
   "source": [
    "<h2>What is a relational database?</h2>\n",
    "<p>You sure do ask a lot of questions.\n",
    "<br>But that's cool. I like that. You're cool. I like you.\n",
    "<br>\n",
    "<br>You already know what a database is. In theory, at least.\n",
    "<br>In a <b>relational database</b>, records in one table point or “relate” to records in other tables. \n",
    "<br>For example, in a “music” database, records in the “songs” table relate to records in both “artists” and “albums” tables. \n",
    "<br>Here's an illustration of the first example:\n",
    "<br><img src=\"relational-example.png\" alt=\"relational-example.png\">\n",
    "<br>\n",
    "<br>This might not seem like a big deal right now. \n",
    "<br>And in terms of what you'll do in this class, it isn't.  \n",
    "<br>But I just wanted to give you a taste of this, since I guarantee you you'll encounter them again one day."
   ]
  },
  {
   "cell_type": "markdown",
   "metadata": {},
   "source": [
    "<h2>What is a Relational Database Management System?</h2>\n",
    "<p>A <b>Relational Database Management System (RDBMS)</b> is essentially the SQL engine managing the data.\n",
    "<br>It's right there in the name: Relational. Database. Management. System. Mind = blown!\n",
    "<br>\n",
    "<br>There are many RDBMS in the industry that work with the standard SQL language, each often putting a spin on it. \n",
    "<br>Some popular ones are MySQL, PostgreSQL, Oracle Database, and Microsoft SQL Server.\n",
    "<br>It's all still SQL, just with a hint of pepper here, a dash of object-oriented programming there... \n",
    "<br>So learning standard SQL syntax is the first step toward understanding these RDBMS that might implement it differently.\n",
    "<br>\n",
    "<br>RDBMS, like all I just mentioned, usually require a client-server environment, since most databases exist on servers. \n",
    "<br>For example, your Facebook account data (pictures, status updates, etc) is not stored in your phone or computer.\n",
    "<br>It is \"fetched\" from a gigantic server, which is almost certainly managed by a RDBMS.\n",
    "<br>\n",
    "<br>We will use a lightweight RDBMS called <b>SQLite</b>. \n",
    "<br>SQLite uses standard-yet-simplified SQL syntax. \n",
    "<br>Most importantly, SQLite was made to be run within the client itself (i.e., your phone).\n",
    "<br>It is popular among applications with embedded databases (e.g., a Pokemon game).</p>\n",
    "<br>This makes it the easiest way to learn SQL syntax, since you don't need to configure anything.\n",
    "<br>You'll see how easy it is to get a database up and running with just one simple line of code.\n",
    "<br>\n",
    "<br>Onward!\n",
    "<hr>"
   ]
  },
  {
   "cell_type": "markdown",
   "metadata": {},
   "source": [
    "<h2>Import sqlite3</h2>\n",
    "<p>You need this to use SQLite within Python.</p>"
   ]
  },
  {
   "cell_type": "code",
   "execution_count": 1,
   "metadata": {
    "collapsed": true
   },
   "outputs": [],
   "source": [
    "import sqlite3"
   ]
  },
  {
   "cell_type": "markdown",
   "metadata": {},
   "source": [
    "<h2>Connect to a database, create a cursor</h2>\n",
    "<p>Let's work with a music database.\n",
    "<br>We need to create a connection to it first.\n",
    "<br>If the database doesn't exist, this code creates it for us as well.\n",
    "<br>Note that the database file is located wherever your Python file is."
   ]
  },
  {
   "cell_type": "code",
   "execution_count": 2,
   "metadata": {
    "collapsed": false
   },
   "outputs": [],
   "source": [
    "conn = sqlite3.connect(\"music.db\")"
   ]
  },
  {
   "cell_type": "markdown",
   "metadata": {},
   "source": [
    "<p>We'll also need a cursor or \"cur\". \n",
    "<br>\"cur\" simply refers to the thing that will be doing the fetching and inserting in database for us. \n",
    "<br>You can imagine it like a little robot scurrying all over the database, following our every command.</p>"
   ]
  },
  {
   "cell_type": "code",
   "execution_count": 3,
   "metadata": {
    "collapsed": false
   },
   "outputs": [],
   "source": [
    "cur = conn.cursor()"
   ]
  },
  {
   "cell_type": "markdown",
   "metadata": {},
   "source": [
    "<h2>Create a table</h2>\n",
    "<p>We'll make just one table called \"artists\"\n",
    "<br>Almost everything we do in SQL from now on will be within the Python function <b>cur.execute()</b>\n",
    "<br>So get used to typing that."
   ]
  },
  {
   "cell_type": "code",
   "execution_count": 4,
   "metadata": {
    "collapsed": false
   },
   "outputs": [
    {
     "data": {
      "text/plain": [
       "<sqlite3.Cursor at 0x1de9664bf80>"
      ]
     },
     "execution_count": 4,
     "metadata": {},
     "output_type": "execute_result"
    }
   ],
   "source": [
    "# Drop (i.e., delete) the table if it already exists. \n",
    "# Otherwise you get an error after each time you run it. \n",
    "cur.execute(\"DROP TABLE IF EXISTS Artists\")\n",
    "\n",
    "# Creating the table means defining each record's fields (i.e., the columns)\n",
    "cur.execute(\"CREATE TABLE Artists (\"\n",
    "            \"artistId INTEGER PRIMARY KEY, \"\n",
    "            \"name TEXT, \"\n",
    "            \"genre TEXT, \"\n",
    "            \"hometown TEXT, \"\n",
    "            \"numAlbums INTEGER)\")"
   ]
  },
  {
   "cell_type": "markdown",
   "metadata": {},
   "source": [
    "<h2>Insert some records</h2>\n",
    "<p>There are a few ways to do this.</p>"
   ]
  },
  {
   "cell_type": "code",
   "execution_count": 7,
   "metadata": {
    "collapsed": false
   },
   "outputs": [
    {
     "ename": "ProgrammingError",
     "evalue": "Cannot operate on a closed database.",
     "output_type": "error",
     "traceback": [
      "\u001b[0;31m---------------------------------------------------------------------------\u001b[0m",
      "\u001b[0;31mProgrammingError\u001b[0m                          Traceback (most recent call last)",
      "\u001b[0;32m<ipython-input-7-61c80d13b1ee>\u001b[0m in \u001b[0;36m<module>\u001b[0;34m()\u001b[0m\n\u001b[1;32m      1\u001b[0m \u001b[1;31m# Method 1: This method allows you to specify only certain fields.\u001b[0m\u001b[1;33m\u001b[0m\u001b[1;33m\u001b[0m\u001b[0m\n\u001b[0;32m----> 2\u001b[0;31m conn.execute(\"INSERT INTO \"\n\u001b[0m\u001b[1;32m      3\u001b[0m              \u001b[1;34m\"Artists(name, genre, hometown, numAlbums) \"\u001b[0m\u001b[1;33m\u001b[0m\u001b[0m\n\u001b[1;32m      4\u001b[0m              \"VALUES('Keebler Elf Lamar', 'Hip Hop', 'Compton', 3)\")\n",
      "\u001b[0;31mProgrammingError\u001b[0m: Cannot operate on a closed database."
     ]
    }
   ],
   "source": [
    "# Method 1: This method allows you to specify only certain fields. \n",
    "conn.execute(\"INSERT INTO \"\n",
    "             \"Artists(name, genre, hometown, numAlbums) \"\n",
    "             \"VALUES('Keebler Elf Lamar', 'Hip Hop', 'Compton', 3)\")"
   ]
  },
  {
   "cell_type": "code",
   "execution_count": 6,
   "metadata": {
    "collapsed": true
   },
   "outputs": [],
   "source": [
    "conn.close()"
   ]
  }
 ],
 "metadata": {
  "kernelspec": {
   "display_name": "Python 3",
   "language": "python",
   "name": "python3"
  },
  "language_info": {
   "codemirror_mode": {
    "name": "ipython",
    "version": 3
   },
   "file_extension": ".py",
   "mimetype": "text/x-python",
   "name": "python",
   "nbconvert_exporter": "python",
   "pygments_lexer": "ipython3",
   "version": "3.6.0"
  }
 },
 "nbformat": 4,
 "nbformat_minor": 0
}
