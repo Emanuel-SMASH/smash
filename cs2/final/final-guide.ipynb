{
 "cells": [
  {
   "cell_type": "markdown",
   "metadata": {
    "collapsed": true
   },
   "source": [
    "<h1>Final Data Analysis Project Guide</h1>\n",
    "<p><b>For SMASH CS Fundamentals II: Data Analysis</b>\n",
    "<br>This guide assumes your class has already covered matplotlib, numpy, and SQL basics. \n",
    "<br>Here, I'll show you how to bring all three together to analyze a Pokemon database.\n",
    "<br>This should give you an idea of what your final project might contain.\n",
    "<br>The notes I write between chunks of code are examples of how you could talk through your program for your video or presentation.</p>\n",
    "<p>Here is a link to the CSV file I am using:\n",
    "<br><a href=\"https://github.com/ahob85/smash/blob/master/cs2/final/Pokemon.csv\">https://github.com/ahob85/smash/blob/master/cs2/final/Pokemon.csv</a></p>\n",
    "\n",
    "<p>matplotlib.pyplot API: \n",
    "<br><a href=\"https://matplotlib.org/api/pyplot_api.html\">\n",
    "https://matplotlib.org/api/pyplot_api.html</a></p>"
   ]
  },
  {
   "cell_type": "markdown",
   "metadata": {},
   "source": [
    "<h2>Import libraries</h2>\n",
    "<p>These libraries are essential.</p>"
   ]
  },
  {
   "cell_type": "code",
   "execution_count": 25,
   "metadata": {
    "collapsed": true
   },
   "outputs": [],
   "source": [
    "import matplotlib.pyplot as plt\n",
    "import numpy as np\n",
    "import sqlite3 \n",
    "import csv"
   ]
  },
  {
   "cell_type": "markdown",
   "metadata": {},
   "source": [
    "<h2>Create/Connect to a SQL database, and assign a \"cursor\"</h2>\n",
    "<p>\"cur\" simply refers to the thing that will be doing the fetching and inserting in database for us.\n",
    "<br>You can imagine it like a little robot scurrying all over the database, following our every command.</p>"
   ]
  },
  {
   "cell_type": "code",
   "execution_count": 26,
   "metadata": {
    "collapsed": true
   },
   "outputs": [],
   "source": [
    "conn = sqlite3.connect(\"mydatabase.sqlite3\")\n",
    "cur = conn.cursor()"
   ]
  },
  {
   "cell_type": "markdown",
   "metadata": {},
   "source": [
    "<h2>Create a table</h2>\n",
    "<p>This table reflects the structure of the data in the CSV file.\n",
    "<br>Here we are simply specifying the columns (i.e., attributes) of the table. \n",
    "<br>Keep in mind that each record or \"row\" in our table is actually a <b>tuple</b>. \n",
    "<br>This will be tremendously helpful to us in a bit.</p>"
   ]
  },
  {
   "cell_type": "code",
   "execution_count": 27,
   "metadata": {},
   "outputs": [
    {
     "data": {
      "text/plain": [
       "<sqlite3.Cursor at 0x7fc3eeee5030>"
      ]
     },
     "execution_count": 27,
     "metadata": {},
     "output_type": "execute_result"
    }
   ],
   "source": [
    "cur.execute(\"DROP TABLE IF EXISTS Pokedex\")\n",
    "cur.execute(\"CREATE TABLE Pokedex (\"\n",
    "            \"id INTEGER PRIMARY KEY, \"\n",
    "            \"name TEXT, \"\n",
    "            \"type1 TEXT, \"\n",
    "            \"type2 TEXT, \"\n",
    "            \"total INTEGER, \"\n",
    "            \"hp INTEGER, \"\n",
    "            \"attack INTEGER, \"\n",
    "            \"defense INTEGER, \"\n",
    "            \"spatk INTEGER, \"\n",
    "            \"spdef INTEGER, \"\n",
    "            \"speed INTEGER, \"\n",
    "            \"generation INTEGER, \"\n",
    "            \"legendary INTEGER)\")"
   ]
  },
  {
   "cell_type": "markdown",
   "metadata": {},
   "source": [
    "<h2>Import CSV data into table</h2>\n",
    "<p>Make sure your CSV file is in the same directory as your Python file.\n",
    "<br>Here we are simply inserting all rows from the CSV using a for-each loop.\n",
    "<br>Remember, the rows are tuples. So the very first element of a row (row[0]) represents that record's id number.</p>"
   ]
  },
  {
   "cell_type": "code",
   "execution_count": 28,
   "metadata": {
    "collapsed": true
   },
   "outputs": [],
   "source": [
    "file = open(\"Pokemon.csv\")\n",
    "csv_file = csv.reader(file)\n",
    "for row in csv_file:\n",
    "    cur.execute(\"INSERT INTO Pokedex VALUES (?, ?, ?, ?, ?, ?, ?, ?, ?, ?, ?, ?, ?)\", \n",
    "                (row[0], row[1], row[2], row[3], row[4], row[5], row[6], \n",
    "                 row[7], row[8], row[9], row[10], row[11], row[12]))\n",
    "    \n",
    "conn.commit()"
   ]
  },
  {
   "cell_type": "markdown",
   "metadata": {},
   "source": [
    "<h2>Test your table</h2>\n",
    "<p>Let's test the integrity of our table by printing a few records.</p>"
   ]
  },
  {
   "cell_type": "code",
   "execution_count": 29,
   "metadata": {},
   "outputs": [
    {
     "name": "stdout",
     "output_type": "stream",
     "text": [
      "(1, 'Bulbasaur', 'Grass', 'Poison', 318, 45, 49, 49, 65, 65, 45, 1, 0)\n",
      "(2, 'Ivysaur', 'Grass', 'Poison', 405, 60, 62, 63, 80, 80, 60, 1, 0)\n",
      "(3, 'Venusaur', 'Grass', 'Poison', 525, 80, 82, 83, 100, 100, 80, 1, 0)\n",
      "(4, 'VenusaurMega Venusaur', 'Grass', 'Poison', 625, 80, 100, 123, 122, 120, 80, 1, 0)\n",
      "(5, 'Charmander', 'Fire', '', 309, 39, 52, 43, 60, 50, 65, 1, 0)\n",
      "(6, 'Charmeleon', 'Fire', '', 405, 58, 64, 58, 80, 65, 80, 1, 0)\n",
      "(7, 'Charizard', 'Fire', 'Flying', 534, 78, 84, 78, 109, 85, 100, 1, 0)\n",
      "(8, 'CharizardMega Charizard X', 'Fire', 'Dragon', 634, 78, 130, 111, 130, 85, 100, 1, 0)\n",
      "(9, 'CharizardMega Charizard Y', 'Fire', 'Flying', 634, 78, 104, 78, 159, 115, 100, 1, 0)\n",
      "(10, 'Squirtle', 'Water', '', 314, 44, 48, 65, 50, 64, 43, 1, 0)\n"
     ]
    }
   ],
   "source": [
    "cur.execute(\"SELECT * FROM Pokedex LIMIT 10;\")\n",
    "for row in cur:\n",
    "    print(row)"
   ]
  },
  {
   "cell_type": "markdown",
   "metadata": {},
   "source": [
    "<h2>Create a function to compute stuff for you</h2>\n",
    "<p>Let the computer do all the hard work while you sit back and chill.\n",
    "<br>We'll first write a function that returns the mean of a list of values, rounded to the nearest hundreth decimal place.\n",
    "<br>This will come in handy soon.</p>"
   ]
  },
  {
   "cell_type": "code",
   "execution_count": 30,
   "metadata": {
    "collapsed": true
   },
   "outputs": [],
   "source": [
    "def get_mean(nums):\n",
    "    if(len(nums) == 0):\n",
    "        return 0\n",
    "    else:\n",
    "        total = 0\n",
    "        for num in nums:\n",
    "            total += num\n",
    "        return round(total / len(nums), 2)"
   ]
  },
  {
   "cell_type": "markdown",
   "metadata": {},
   "source": [
    "<h2>Bring table data into program</h2>\n",
    "<p>We will test our get_mean() function with data from our table.\n",
    "<br>But first let's see what kind of thing is returned from a simple SELECT query.</p>"
   ]
  },
  {
   "cell_type": "code",
   "execution_count": 31,
   "metadata": {},
   "outputs": [
    {
     "name": "stdout",
     "output_type": "stream",
     "text": [
      "(45,)\n",
      "(60,)\n",
      "(80,)\n",
      "(80,)\n",
      "(39,)\n"
     ]
    }
   ],
   "source": [
    "cur.execute(\"SELECT hp FROM Pokedex LIMIT 5\")\n",
    "for row in cur:\n",
    "    print(row)"
   ]
  },
  {
   "cell_type": "markdown",
   "metadata": {},
   "source": [
    "Looks like SELECT returns tuples. Just as we said before, records are just tuples.\n",
    "<br>This means if we want to access the integer values themselves, we would do so the same way we would with tuple or list. \n",
    "<br>In this case, each tuple above contains only one element (since I asked only for HP). \n",
    "<br>So the the info I want is at index 0."
   ]
  },
  {
   "cell_type": "code",
   "execution_count": 32,
   "metadata": {},
   "outputs": [
    {
     "name": "stdout",
     "output_type": "stream",
     "text": [
      "35\n",
      "<class 'int'>\n"
     ]
    }
   ],
   "source": [
    "cur.execute(\"SELECT hp FROM Pokedex WHERE name = 'Pikachu';\")\n",
    "data = cur.fetchone()[0] \n",
    "print(data)\n",
    "print(type(data))"
   ]
  },
  {
   "cell_type": "markdown",
   "metadata": {},
   "source": [
    "<h2>Test your function</h2>\n",
    "<p>Now we can test our get_mean() function with some data from our table.</p>"
   ]
  },
  {
   "cell_type": "code",
   "execution_count": 33,
   "metadata": {},
   "outputs": [
    {
     "name": "stdout",
     "output_type": "stream",
     "text": [
      "HP mean =  69.26\n"
     ]
    }
   ],
   "source": [
    "cur.execute(\"SELECT hp FROM Pokedex\")\n",
    "hp_data = []\n",
    "for row in cur:\n",
    "    hp_data.append(row[0])\n",
    "hp_mean = get_mean(hp_data)\n",
    "print(\"HP mean = \", hp_mean)"
   ]
  },
  {
   "cell_type": "markdown",
   "metadata": {},
   "source": [
    "<p>I wonder... is the average HP for non-Legendary Pokemon less than that for Legendary Pokemon?</p>"
   ]
  },
  {
   "cell_type": "code",
   "execution_count": 34,
   "metadata": {},
   "outputs": [
    {
     "name": "stdout",
     "output_type": "stream",
     "text": [
      "Non-Legendary HP mean = 67.18\n",
      "Legendary HP mean = 92.74\n"
     ]
    }
   ],
   "source": [
    "cur.execute(\"SELECT hp FROM Pokedex WHERE Legendary = 0\")\n",
    "nonlegendary_hp = []\n",
    "for row in cur:\n",
    "    nonlegendary_hp.append(row[0])\n",
    "cur.execute(\"SELECT hp FROM Pokedex WHERE Legendary = 1\")\n",
    "legendary_hp = []\n",
    "for row in cur:\n",
    "    legendary_hp.append(row[0])\n",
    "print(\"Non-Legendary HP mean =\", get_mean(nonlegendary_hp))\n",
    "print(\"Legendary HP mean =\", get_mean(legendary_hp))"
   ]
  },
  {
   "cell_type": "markdown",
   "metadata": {},
   "source": [
    "<p>Yeah, that makes sense. \n",
    "<br>But I want to see it.</p>"
   ]
  },
  {
   "cell_type": "markdown",
   "metadata": {},
   "source": [
    "<h2>Make a bar chart</h2>\n",
    "<p>Let's use a bar chart to quickly display the difference between legendary and non-legendary groups in terms of mean statistics.</p>"
   ]
  },
  {
   "cell_type": "code",
   "execution_count": 35,
   "metadata": {},
   "outputs": [
    {
     "name": "stdout",
     "output_type": "stream",
     "text": [
      "Nonlegendary means: [67.18, 75.67, 71.56, 68.45, 68.89, 65.46]\n",
      "Legendary means: [92.74, 116.68, 99.66, 122.18, 105.94, 100.18]\n"
     ]
    }
   ],
   "source": [
    "# Create lists for both groups\n",
    "nonlegendary_means = []\n",
    "legendary_means = []\n",
    "\n",
    "# Get means for all 6 stats for nonlegendary Pokemon\n",
    "hp, attack, defense, spatk, spdef, speed = [], [], [], [], [], []\n",
    "cur.execute(\"SELECT hp, attack, defense, spatk, spdef, speed FROM Pokedex WHERE Legendary = 0\")\n",
    "for row in cur:\n",
    "    hp.append(row[0])\n",
    "    attack.append(row[1])\n",
    "    defense.append(row[2])\n",
    "    spatk.append(row[3])\n",
    "    spdef.append(row[4])\n",
    "    speed.append(row[5])\n",
    "nonlegendary_means.extend((get_mean(hp), get_mean(attack), \n",
    "                          get_mean(defense), get_mean(spatk), \n",
    "                          get_mean(spdef), get_mean(speed)))\n",
    "\n",
    "# Get means for all 6 stats for legendary Pokemon\n",
    "hp, attack, defense, spatk, spdef, speed = [], [], [], [], [], []\n",
    "cur.execute(\"SELECT hp, attack, defense, spatk, spdef, speed FROM Pokedex WHERE Legendary = 1\")\n",
    "for row in cur:\n",
    "    hp.append(row[0])\n",
    "    attack.append(row[1])\n",
    "    defense.append(row[2])\n",
    "    spatk.append(row[3])\n",
    "    spdef.append(row[4])\n",
    "    speed.append(row[5])\n",
    "legendary_means.extend((get_mean(hp), get_mean(attack), \n",
    "                        get_mean(defense), get_mean(spatk), \n",
    "                        get_mean(spdef), get_mean(speed)))\n",
    "\n",
    "print(\"Nonlegendary means:\", nonlegendary_means)\n",
    "print(\"Legendary means:\", legendary_means)"
   ]
  },
  {
   "cell_type": "markdown",
   "metadata": {},
   "source": [
    "<p>Now that we have the two lists of means, let's make our bar chart.</p>"
   ]
  },
  {
   "cell_type": "code",
   "execution_count": 36,
   "metadata": {},
   "outputs": [
    {
     "data": {
      "image/png": "[encoded data removed]",
      "text/plain": [
       "<matplotlib.figure.Figure at 0x7fc3eafcb128>"
      ]
     },
     "metadata": {},
     "output_type": "display_data"
    }
   ],
   "source": [
    "bar_width = 0.35\n",
    "x_range = [0, 1, 2, 3, 4, 5]\n",
    "y_range = list(range(0, 150, 10))\n",
    "plt.rc(\"axes\", axisbelow=True)\n",
    "\n",
    "plt.figure(1)\n",
    "plt.xticks(x_range,  [\"HP\", \"Attack\", \"Defense\", \"Spatk\", \"Spdef\", \"Speed\"])\n",
    "plt.yticks(y_range)\n",
    "plt.grid(axis=\"y\")\n",
    "plt.title(\"Pokemon Stat Averages\")\n",
    "\n",
    "nonlegendary_range = [x - bar_width / 2 for x in x_range]\n",
    "legendary_range = [x + bar_width / 2 for x in x_range]\n",
    "\n",
    "plt.bar(nonlegendary_range, nonlegendary_means, bar_width, color='blue', label='non-legendary')\n",
    "plt.bar(legendary_range, legendary_means, bar_width, color='red', label='legendary')\n",
    "\n",
    "plt.legend().draggable()\n",
    "\n",
    "plt.show()"
   ]
  },
  {
   "cell_type": "markdown",
   "metadata": {},
   "source": [
    "<h2>Write and test another function</h2>\n",
    "<p>Let's write a function that returns the standard devation of a list of numbers, rounded to the nearest hundreth decimal place.</p>"
   ]
  },
  {
   "cell_type": "code",
   "execution_count": 37,
   "metadata": {},
   "outputs": [
    {
     "name": "stdout",
     "output_type": "stream",
     "text": [
      "HP standard deviation = 25.53\n"
     ]
    }
   ],
   "source": [
    "def get_sd(nums):\n",
    "    mean = get_mean(nums)\n",
    "    total = 0\n",
    "    for num in nums:\n",
    "        total += (num - mean) ** 2\n",
    "    variance = total / (len(nums) - 1)\n",
    "    return round(variance ** 0.5, 2)\n",
    "\n",
    "hp_sd = get_sd(hp_data)\n",
    "print(\"HP standard deviation =\", hp_sd)"
   ]
  },
  {
   "cell_type": "markdown",
   "metadata": {},
   "source": [
    "<h2>Make a histogram</h2>\n",
    "<p>Let's use matplotlib to make a histogram of Pokemon hp.\n",
    "<br>This will help us see how hp is distributed among all the Pokeymans.</p> "
   ]
  },
  {
   "cell_type": "code",
   "execution_count": 38,
   "metadata": {},
   "outputs": [
    {
     "data": {
      "image/png": "[encoded data removed]",
      "text/plain": [
       "<matplotlib.figure.Figure at 0x7fc3eae18be0>"
      ]
     },
     "metadata": {},
     "output_type": "display_data"
    }
   ],
   "source": [
    "plt.figure(2)\n",
    "plt.title(\"Distribution of Pokemon HP\\nmean = {}, sd = {}\".format(hp_mean, hp_sd))\n",
    "plt.xlabel(\"HP\")\n",
    "plt.ylabel(\"Frequency\")\n",
    "plt.hist(hp_data, bins=\"auto\", edgecolor=\"black\")\n",
    "plt.axis([min(hp_data), max(hp_data), 0, 130])\n",
    "plt.xticks(list(range(0, max(hp_data), 20)))\n",
    "plt.yticks(list(range(0, 130, 10)))\n",
    "plt.grid(axis=\"y\")\n",
    "plt.show()"
   ]
  },
  {
   "cell_type": "markdown",
   "metadata": {},
   "source": [
    "<p>This looks <b>positively skewed</b>. \n",
    "<br>There are <b>outliers</b> toward the right, especially that one or two waaaaay out there.</p>"
   ]
  },
  {
   "cell_type": "code",
   "execution_count": 39,
   "metadata": {},
   "outputs": [
    {
     "name": "stdout",
     "output_type": "stream",
     "text": [
      "255\n"
     ]
    }
   ],
   "source": [
    "print(max(hp_data))"
   ]
  },
  {
   "cell_type": "markdown",
   "metadata": {},
   "source": [
    "<p>Which Pokemon has 255 base HP?</p>"
   ]
  },
  {
   "cell_type": "code",
   "execution_count": 40,
   "metadata": {},
   "outputs": [
    {
     "name": "stdout",
     "output_type": "stream",
     "text": [
      "Blissey\n"
     ]
    }
   ],
   "source": [
    "cur.execute(\"SELECT name FROM Pokedex WHERE hp = 255\")\n",
    "print(cur.fetchone()[0])"
   ]
  },
  {
   "cell_type": "markdown",
   "metadata": {},
   "source": [
    "<p>WHAT? You mean this cute lil pudgeball has the most hp out of all the Pokemon? Guess so!\n",
    "<br><img src=\"blissey.png\" alt=\"blissey.png\"></p>"
   ]
  },
  {
   "cell_type": "markdown",
   "metadata": {},
   "source": [
    "<h2>Make a scatter plot</h2>\n",
    "<p>I want to examine the relationship between defense and speed.\n",
    "<br>According to EDA philosophy, it's good to get a visual before I run stats. This gives me a \"feel\" for the data that numbers might not provide.\n",
    "<br>My hunch is that Pokemon with a lot of defense are generally slow. So the two variables should be <b>negatively correlated</b>.\n",
    "<br>But I won't know until I see it for myself.</p>"
   ]
  },
  {
   "cell_type": "code",
   "execution_count": 41,
   "metadata": {},
   "outputs": [
    {
     "data": {
      "image/png": "[encoded data removed]",
      "text/plain": [
       "<matplotlib.figure.Figure at 0x7fc3eaca89b0>"
      ]
     },
     "metadata": {},
     "output_type": "display_data"
    }
   ],
   "source": [
    "cur.execute(\"SELECT defense,speed FROM Pokedex\")\n",
    "d_data, s_data = [], []\n",
    "for row in cur:\n",
    "    d_data.append(row[0])\n",
    "    s_data.append(row[1])\n",
    "plt.figure(3)\n",
    "plt.xticks(list(range(0, 250, 20)))\n",
    "plt.yticks(list(range(0, 250, 20)))\n",
    "plt.grid(True)\n",
    "plt.title(\"Pokemon Defense vs Speed\")\n",
    "plt.xlabel(\"Defense\")\n",
    "plt.ylabel(\"Speed\")\n",
    "plt.scatter(d_data, s_data)\n",
    "plt.show()"
   ]
  },
  {
   "cell_type": "markdown",
   "metadata": {},
   "source": [
    "<p>Hmm... hard to see any kind of correlation here, at least with my own two eyes. \n",
    "<br>Time to break out the numpy library.</p>"
   ]
  },
  {
   "cell_type": "markdown",
   "metadata": {},
   "source": [
    "<h2>Find Pearson correlation coefficient (r) between two variables</h2>\n",
    "<p>It's easy with numpy.</p>"
   ]
  },
  {
   "cell_type": "code",
   "execution_count": 42,
   "metadata": {},
   "outputs": [
    {
     "name": "stdout",
     "output_type": "stream",
     "text": [
      "[[ 1.         0.0152266]\n",
      " [ 0.0152266  1.       ]]\n"
     ]
    }
   ],
   "source": [
    "correlation = np.corrcoef(d_data, s_data)\n",
    "print(correlation)"
   ]
  },
  {
   "cell_type": "code",
   "execution_count": 43,
   "metadata": {},
   "outputs": [
    {
     "name": "stdout",
     "output_type": "stream",
     "text": [
      "r = 0.02\n"
     ]
    }
   ],
   "source": [
    "correlation = round(np.corrcoef(d_data, s_data)[0][1], 2)\n",
    "print(\"r =\", correlation)"
   ]
  },
  {
   "cell_type": "markdown",
   "metadata": {},
   "source": [
    "<p><br>Our r coefficient is about 0.02. This means the relationship is pretty much nonexistant.\n",
    "<br>Or more properly, we'd say <b>defense does not predict speed (and vice versa)</b>.\n",
    "<br>My hunch was wrong!</p>"
   ]
  },
  {
   "cell_type": "markdown",
   "metadata": {},
   "source": [
    "<h2>Make another scatter plot</h2>\n",
    "<p>Let's try something else. I'll see if there is a relationship between attack power and HP.\n",
    "<br>Let's take a look!</p>"
   ]
  },
  {
   "cell_type": "code",
   "execution_count": 44,
   "metadata": {},
   "outputs": [
    {
     "data": {
      "image/png": "[encoded data removed]",
      "text/plain": [
       "<matplotlib.figure.Figure at 0x7fc3ead07908>"
      ]
     },
     "metadata": {},
     "output_type": "display_data"
    }
   ],
   "source": [
    "a_data = []\n",
    "cur.execute(\"SELECT attack FROM Pokedex\")\n",
    "for row in cur:\n",
    "    a_data.append(row[0])\n",
    "plt.figure(4)\n",
    "plt.xticks(list(range(0, 250, 20)))\n",
    "plt.yticks(list(range(0, 250, 20)))\n",
    "plt.grid(True)\n",
    "plt.title(\"Pokemon HP vs Attack Power\")\n",
    "plt.xlabel(\"HP\")\n",
    "plt.ylabel(\"Attack Power\")\n",
    "plt.scatter(hp_data, a_data)\n",
    "plt.show()"
   ]
  },
  {
   "cell_type": "markdown",
   "metadata": {},
   "source": [
    "<p>Looks like there is a relationship! \n",
    "<br>There are a few <b>outliers</b> toward the right end. \n",
    "<br>These are Pokemon with high HP but almost no attack power, one of whom is probably Blissey!\n",
    "<br>Let's calculate r for these two variables.</p>"
   ]
  },
  {
   "cell_type": "code",
   "execution_count": 45,
   "metadata": {},
   "outputs": [
    {
     "name": "stdout",
     "output_type": "stream",
     "text": [
      "r = 0.42\n"
     ]
    }
   ],
   "source": [
    "correlation = round(np.corrcoef(hp_data, a_data)[0][1], 2)\n",
    "print(\"r =\", correlation)"
   ]
  },
  {
   "cell_type": "markdown",
   "metadata": {},
   "source": [
    "So we got a 0.42 on this one, which indicates a moderately positive relationship between the two variables.\n",
    "<br>Those outliers are very likely throwing this off a tad... but hey, that's Pokemon for you. Gotta catch 'em all, even the weird ones."
   ]
  },
  {
   "cell_type": "markdown",
   "metadata": {},
   "source": [
    "<h2>Create a model</h2>\n",
    "Now that we have identified at least a moderate relationship between two variables, we can think about regression. \n",
    "<br>The scatter plot we made appears to follow a linear (y = ax + b) model, doesn't it?\n",
    "<br>So let's make one with numpy and see how it fits."
   ]
  },
  {
   "cell_type": "code",
   "execution_count": 46,
   "metadata": {},
   "outputs": [
    {
     "name": "stdout",
     "output_type": "stream",
     "text": [
      "[  0.53689898  41.81629745]\n"
     ]
    }
   ],
   "source": [
    "model = np.polyfit(hp_data, a_data, deg=1)\n",
    "print(model)"
   ]
  },
  {
   "cell_type": "markdown",
   "metadata": {},
   "source": [
    "<p><br>So our model is:\n",
    "<br><b>attack = 0.54 * hp + 41.82</b></p>"
   ]
  },
  {
   "cell_type": "markdown",
   "metadata": {},
   "source": [
    "<h2>Plot the model onto the data</h2>\n",
    "<p>Now let's plot the model onto the data to judge how well it fits with our eyes.</p>"
   ]
  },
  {
   "cell_type": "code",
   "execution_count": 47,
   "metadata": {},
   "outputs": [
    {
     "data": {
      "image/png": "[encoded data removed]",
      "text/plain": [
       "<matplotlib.figure.Figure at 0x7fc3eaef7a20>"
      ]
     },
     "metadata": {},
     "output_type": "display_data"
    }
   ],
   "source": [
    "x_range = list(range(max(hp_data))) \n",
    "p = np.poly1d(model)               \n",
    "y_range = p(x_range)                \n",
    "plt.figure(5)\n",
    "plt.xticks(list(range(0, 250, 20)))\n",
    "plt.yticks(list(range(0, 250, 20)))\n",
    "plt.grid(True)\n",
    "plt.title(\"Pokemon HP vs Attack Power\\nr = {}\".format(correlation))\n",
    "plt.xlabel(\"HP\")\n",
    "plt.ylabel(\"Attack Power\")\n",
    "plt.scatter(hp_data, a_data)\n",
    "plt.plot(x_range, y_range, color=\"red\") \n",
    "plt.show()"
   ]
  },
  {
   "cell_type": "markdown",
   "metadata": {},
   "source": [
    "<p>Well, what do you think? Does this linear model fit the data well?\n",
    "<br><b>In your own project, you should explain why or why not.</b>\n"
   ]
  },
  {
   "cell_type": "markdown",
   "metadata": {},
   "source": [
    "<h1>If you have this much, you're done!</h1>\n",
    "<p>Feel free to add more!\n",
    "<br>Again, this was just an example of what your project might look like.\n",
    "<br>As you can see, I'm using various quantitative and visual techniques to transform data into information.\n",
    "<br>Just be sure to record a video of you demonstrating your program in action.\n",
    "<br>Oh, and of course, don't forget to close your connection to the database.</p>"
   ]
  },
  {
   "cell_type": "code",
   "execution_count": 48,
   "metadata": {
    "collapsed": true
   },
   "outputs": [],
   "source": [
    "conn.close()"
   ]
  }
 ],
 "metadata": {
  "kernelspec": {
   "display_name": "Python 3",
   "language": "python",
   "name": "python3"
  },
  "language_info": {
   "codemirror_mode": {
    "name": "ipython",
    "version": 3
   },
   "file_extension": ".py",
   "mimetype": "text/x-python",
   "name": "python",
   "nbconvert_exporter": "python",
   "pygments_lexer": "ipython3",
   "version": "3.6.0"
  }
 },
 "nbformat": 4,
 "nbformat_minor": 1
}
